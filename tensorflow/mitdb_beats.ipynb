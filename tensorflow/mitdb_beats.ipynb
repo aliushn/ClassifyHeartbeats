{
 "cells": [
  {
   "attachments": {},
   "cell_type": "markdown",
   "metadata": {},
   "source": [
    "# On-Device AI Co., Ltd.\n",
    "\n",
    "Web   : https://on-device-ai.com/  \n",
    "Email : yilintung@on-device-ai.com"
   ]
  },
  {
   "cell_type": "markdown",
   "metadata": {},
   "source": [
    "https://github.com/MIT-LCP/wfdb-python  \n",
    "https://github.com/PIA-Group/BioSPPy"
   ]
  },
  {
   "cell_type": "code",
   "execution_count": 1,
   "metadata": {},
   "outputs": [],
   "source": [
    "import numpy as np\n",
    "import wfdb\n",
    "from biosppy.signals import ecg"
   ]
  },
  {
   "cell_type": "code",
   "execution_count": 2,
   "metadata": {},
   "outputs": [],
   "source": [
    "# MIT-BIH Arrhythmia Database\n",
    "# https://physionet.org/content/mitdb/1.0.0/\n",
    "mitdbs = [100,101,102,103,104,105,106,107,108,109,111,112,113,114,115,116,117,118,119,121,122,123,124,200,201,202,203,205,207,208,209,210,212,213,214,215,217,219,220,221,222,223,228,230,231,232,233,234]"
   ]
  },
  {
   "cell_type": "code",
   "execution_count": 3,
   "metadata": {},
   "outputs": [],
   "source": [
    "# Beat annotations\n",
    "# https://archive.physionet.org/physiobank/annotations.shtml\n",
    "beat_annotations = ['N', 'L', 'R', 'B', 'A', 'a',    'J', 'S', 'V', 'r', 'F', 'e', 'j', 'n', 'E', '/',    'Q',     '?'    ]"
   ]
  },
  {
   "cell_type": "code",
   "execution_count": 4,
   "metadata": {},
   "outputs": [],
   "source": [
    "# Beat annotations to AAMI EC57 categories\n",
    "aami_normal = ['N','L','R', 'e','j']\n",
    "aami_supraventricular_ectopic_beat = ['A','a', 'J', 'Q']\n",
    "aami_ventricular_ectopic_beat = ['V','E']\n",
    "aami_fusion_beat = ['F']\n",
    "aami_unknown_beat = ['/','f','u']"
   ]
  },
  {
   "cell_type": "code",
   "execution_count": 5,
   "metadata": {},
   "outputs": [],
   "source": [
    "for db in mitdbs :\n",
    "\n",
    "    # Read a WFDB record\n",
    "    sig, fields = wfdb.rdsamp('./mitdb/'+str(db))\n",
    "    \n",
    "    # Only using Lead II signal\n",
    "    if fields['sig_name'][0] == 'MLII' :\n",
    "        signal = sig[:,0]\n",
    "    elif fields['sig_name'][1] == 'MLII' :\n",
    "        signal = sig[:,1]\n",
    "    else :\n",
    "        signal = None\n",
    "\n",
    "    # Read a WFDB annotation\n",
    "    ann =  wfdb.rdann('./mitdb/'+str(db), 'atr')\n",
    "    annsample = ann.sample\n",
    "    annsymbol = ann.symbol\n",
    "\n",
    "    if signal is not None :\n",
    "        \n",
    "        # Convert signal (numpy array) type and values from Float64 to Float32\n",
    "        signal = np.float32(signal)\n",
    "        \n",
    "        # ECG R-peak segmentation algorithm.\n",
    "        # Follows the approach by P.S. Hamilton, “Open Source ECG Analysis Software Documentation”, E.P.Limited, 2002.\n",
    "        out = ecg.hamilton_segmenter(signal=signal, sampling_rate=fields['fs'])\n",
    "        rpeaks = out['rpeaks']\n",
    "\n",
    "        count                = 0\n",
    "        signal_size          = len(signal)\n",
    "        ann_data_size        = len(annsample)\n",
    "        beat_list            = list()\n",
    "        while count < ann_data_size:\n",
    "            sample = annsample[count]\n",
    "            symbol = annsymbol[count]\n",
    "\n",
    "            if symbol in beat_annotations:\n",
    "\n",
    "                # Find the R Peak for the beat annotation\n",
    "                beat_rpeak        = None\n",
    "                check_rpeak_start = sample - 90\n",
    "                check_rpeak_end   = sample + 90\n",
    "                if check_rpeak_start >= 0 and check_rpeak_end < signal_size :\n",
    "                    for rpeak in rpeaks :\n",
    "                        if rpeak >= check_rpeak_start and rpeak <= check_rpeak_end :\n",
    "                            beat_rpeak = rpeak\n",
    "                            break\n",
    "\n",
    "                # If found R Peak, set ECG heartbeat segmentation\n",
    "                if beat_rpeak is not None :\n",
    "\n",
    "                    segmentation_start = beat_rpeak - 90\n",
    "                    segmentation_end   = beat_rpeak + 170\n",
    "                    if segmentation_start >= 0 and segmentation_end < signal_size :\n",
    "\n",
    "                        # Segmentation : R Peak - 90 ~ R Peak + 170\n",
    "                        segmentation = signal[segmentation_start:segmentation_end]\n",
    "\n",
    "                        # z-score normalization\n",
    "                        segmentation_copy = np.copy(segmentation)\n",
    "                        normalized_zone = (segmentation_copy - np.mean(segmentation_copy))/np.std(segmentation_copy)\n",
    "\n",
    "                        # AAMI categories : ANSI/AAMI EC57; 2012\n",
    "                        # Class N SVEB VEB F Q\n",
    "                        # id    0 1    2   3 4\n",
    "                        if   symbol in aami_normal :\n",
    "                            aami_id = 0\n",
    "                        elif symbol in aami_supraventricular_ectopic_beat :\n",
    "                            aami_id = 1\n",
    "                        elif symbol in aami_ventricular_ectopic_beat :\n",
    "                            aami_id = 2\n",
    "                        elif symbol in aami_fusion_beat :\n",
    "                            aami_id = 3\n",
    "                        elif symbol in aami_unknown_beat :\n",
    "                            aami_id = 4\n",
    "                        else :\n",
    "                            aami_id = 4\n",
    "                        \n",
    "                        # Add to list : [0] AAMI categorie , [1] Normalized signal\n",
    "                        beat_list.append([aami_id,normalized_zone])\n",
    "            # Next annotation\n",
    "            count += 1\n",
    "\n",
    "        # Save Numpy array\n",
    "        np.save('./beats/'+ str(db) + '.npy',{'beats':beat_list})"
   ]
  },
  {
   "cell_type": "code",
   "execution_count": null,
   "metadata": {},
   "outputs": [],
   "source": []
  }
 ],
 "metadata": {
  "kernelspec": {
   "display_name": "Python 3",
   "language": "python",
   "name": "python3"
  },
  "language_info": {
   "codemirror_mode": {
    "name": "ipython",
    "version": 3
   },
   "file_extension": ".py",
   "mimetype": "text/x-python",
   "name": "python",
   "nbconvert_exporter": "python",
   "pygments_lexer": "ipython3",
   "version": "3.7.4"
  }
 },
 "nbformat": 4,
 "nbformat_minor": 2
}
